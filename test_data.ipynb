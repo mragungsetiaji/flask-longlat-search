{
 "cells": [
  {
   "cell_type": "code",
   "execution_count": 115,
   "metadata": {},
   "outputs": [],
   "source": [
    "import requests\n",
    "import json\n",
    "\n",
    "host = \"http://127.0.0.1:5000\""
   ]
  },
  {
   "cell_type": "code",
   "execution_count": 116,
   "metadata": {},
   "outputs": [
    {
     "data": {
      "text/plain": [
       "True"
      ]
     },
     "execution_count": 116,
     "metadata": {},
     "output_type": "execute_result"
    }
   ],
   "source": [
    "# check if the server is running\n",
    "def test_server_is_up():\n",
    "    try:\n",
    "        r = requests.get(host)\n",
    "        assert r.status_code == 200\n",
    "    except requests.exceptions.ConnectionError:\n",
    "        return False\n",
    "    return True\n",
    "\n",
    "test_server_is_up()"
   ]
  },
  {
   "cell_type": "code",
   "execution_count": 117,
   "metadata": {},
   "outputs": [],
   "source": [
    "# random longitude and latitude\n",
    "import random\n",
    "\n",
    "def get_random():\n",
    "    longitude = random.uniform(-180, 180)\n",
    "    latitude = random.uniform(-90, 90)\n",
    "    return [longitude, latitude]\n"
   ]
  },
  {
   "cell_type": "code",
   "execution_count": 118,
   "metadata": {},
   "outputs": [
    {
     "name": "stdout",
     "output_type": "stream",
     "text": [
      "[-176.0967502506148, 11.675252915767999]\n"
     ]
    }
   ],
   "source": [
    "data = get_random()\n",
    "print(data)"
   ]
  },
  {
   "cell_type": "code",
   "execution_count": 119,
   "metadata": {},
   "outputs": [
    {
     "name": "stdout",
     "output_type": "stream",
     "text": [
      "[[79.66024908824659, -60.699835963500554], [91.50033807659577, 58.05071750087848], [135.0075661163665, -66.61009540337295], [65.66681906238983, -79.81611803787371], [-70.35584674939716, -76.62865069964751]]\n"
     ]
    }
   ],
   "source": [
    "# generate 5 random data and send to server\n",
    "data = [get_random() for i in range(5)]\n",
    "print(data)"
   ]
  },
  {
   "cell_type": "code",
   "execution_count": 120,
   "metadata": {},
   "outputs": [
    {
     "name": "stdout",
     "output_type": "stream",
     "text": [
      "{\n",
      "  \"success\": true\n",
      "}\n",
      "\n",
      "{\n",
      "  \"success\": true\n",
      "}\n",
      "\n",
      "{\n",
      "  \"success\": true\n",
      "}\n",
      "\n",
      "{\n",
      "  \"success\": true\n",
      "}\n",
      "\n",
      "{\n",
      "  \"success\": true\n",
      "}\n",
      "\n"
     ]
    }
   ],
   "source": [
    "for index, d in enumerate(data):\n",
    "    headers = {\n",
    "      'Content-Type': 'application/json'\n",
    "    }\n",
    "    payload = json.dumps({'longitude': d[0], 'latitude': d[1], 'index': index})\n",
    "    response = requests.request(\"POST\", host+\"/add\", headers=headers, data=payload)\n",
    "\n",
    "    print(response.text)"
   ]
  },
  {
   "cell_type": "code",
   "execution_count": 121,
   "metadata": {},
   "outputs": [
    {
     "name": "stdout",
     "output_type": "stream",
     "text": [
      "{\n",
      "  \"0\": [\n",
      "    79.66024908824659, \n",
      "    -60.699835963500554\n",
      "  ], \n",
      "  \"1\": [\n",
      "    91.50033807659577, \n",
      "    58.05071750087848\n",
      "  ], \n",
      "  \"2\": [\n",
      "    135.0075661163665, \n",
      "    -66.61009540337295\n",
      "  ], \n",
      "  \"3\": [\n",
      "    65.66681906238983, \n",
      "    -79.81611803787371\n",
      "  ], \n",
      "  \"4\": [\n",
      "    -70.35584674939716, \n",
      "    -76.62865069964751\n",
      "  ]\n",
      "}\n",
      "\n"
     ]
    }
   ],
   "source": [
    "#check if data is in the database\n",
    "r = requests.get(host + \"/data\")\n",
    "print(r.text)"
   ]
  },
  {
   "cell_type": "code",
   "execution_count": 122,
   "metadata": {},
   "outputs": [
    {
     "name": "stdout",
     "output_type": "stream",
     "text": [
      "{\n",
      "  \"neighbors\": [\n",
      "    {\n",
      "      \"distance\": 91.864197355703, \n",
      "      \"index\": 1\n",
      "    }, \n",
      "    {\n",
      "      \"distance\": 137.67820103342746, \n",
      "      \"index\": 0\n",
      "    }, \n",
      "    {\n",
      "      \"distance\": 146.11167195601485, \n",
      "      \"index\": 4\n",
      "    }\n",
      "  ]\n",
      "}\n",
      "\n"
     ]
    }
   ],
   "source": [
    "# Query the database for the data\n",
    "r = requests.get(host + \"/query?longitude=-0.13&latitude=51.5&k=3\")\n",
    "print(r.text)"
   ]
  },
  {
   "cell_type": "code",
   "execution_count": null,
   "metadata": {},
   "outputs": [],
   "source": []
  }
 ],
 "metadata": {
  "kernelspec": {
   "display_name": "Python 3.8.11 ('jupyter-workspace-nNkyj-X7-py3.8')",
   "language": "python",
   "name": "python3"
  },
  "language_info": {
   "codemirror_mode": {
    "name": "ipython",
    "version": 3
   },
   "file_extension": ".py",
   "mimetype": "text/x-python",
   "name": "python",
   "nbconvert_exporter": "python",
   "pygments_lexer": "ipython3",
   "version": "3.8.11"
  },
  "orig_nbformat": 4,
  "vscode": {
   "interpreter": {
    "hash": "314286ee57c0c2e07cc978d2aa17ca6dd2811e921402ad7ca5ef8ba505470543"
   }
  }
 },
 "nbformat": 4,
 "nbformat_minor": 2
}
